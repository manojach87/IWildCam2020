{
 "cells": [
  {
   "cell_type": "code",
   "execution_count": 1,
   "metadata": {},
   "outputs": [],
   "source": [
    "def readJSONFile(path):\n",
    "    import json\n",
    "    with open(path) as f:\n",
    "        data = json.load(f)\n",
    "    return data\n"
   ]
  },
  {
   "cell_type": "code",
   "execution_count": 2,
   "metadata": {},
   "outputs": [],
   "source": [
    "path=\"https://jira.charter.com/rest/api/2/issue/CBI-129968\""
   ]
  },
  {
   "cell_type": "code",
   "execution_count": 3,
   "metadata": {
    "collapsed": true
   },
   "outputs": [
    {
     "ename": "FileNotFoundError",
     "evalue": "[Errno 2] No such file or directory: 'https://jira.charter.com/rest/api/2/issue/CBI-129968'",
     "output_type": "error",
     "traceback": [
      "\u001b[0;31m---------------------------------------------------------------------------\u001b[0m",
      "\u001b[0;31mFileNotFoundError\u001b[0m                         Traceback (most recent call last)",
      "\u001b[0;32m<ipython-input-3-bfe07645d1eb>\u001b[0m in \u001b[0;36m<module>\u001b[0;34m\u001b[0m\n\u001b[0;32m----> 1\u001b[0;31m \u001b[0mreadJSONFile\u001b[0m\u001b[0;34m(\u001b[0m\u001b[0mpath\u001b[0m\u001b[0;34m)\u001b[0m\u001b[0;34m\u001b[0m\u001b[0;34m\u001b[0m\u001b[0m\n\u001b[0m",
      "\u001b[0;32m<ipython-input-1-53409fdd2658>\u001b[0m in \u001b[0;36mreadJSONFile\u001b[0;34m(path)\u001b[0m\n\u001b[1;32m      1\u001b[0m \u001b[0;32mdef\u001b[0m \u001b[0mreadJSONFile\u001b[0m\u001b[0;34m(\u001b[0m\u001b[0mpath\u001b[0m\u001b[0;34m)\u001b[0m\u001b[0;34m:\u001b[0m\u001b[0;34m\u001b[0m\u001b[0;34m\u001b[0m\u001b[0m\n\u001b[1;32m      2\u001b[0m     \u001b[0;32mimport\u001b[0m \u001b[0mjson\u001b[0m\u001b[0;34m\u001b[0m\u001b[0;34m\u001b[0m\u001b[0m\n\u001b[0;32m----> 3\u001b[0;31m     \u001b[0;32mwith\u001b[0m \u001b[0mopen\u001b[0m\u001b[0;34m(\u001b[0m\u001b[0mpath\u001b[0m\u001b[0;34m)\u001b[0m \u001b[0;32mas\u001b[0m \u001b[0mf\u001b[0m\u001b[0;34m:\u001b[0m\u001b[0;34m\u001b[0m\u001b[0;34m\u001b[0m\u001b[0m\n\u001b[0m\u001b[1;32m      4\u001b[0m         \u001b[0mdata\u001b[0m \u001b[0;34m=\u001b[0m \u001b[0mjson\u001b[0m\u001b[0;34m.\u001b[0m\u001b[0mload\u001b[0m\u001b[0;34m(\u001b[0m\u001b[0mf\u001b[0m\u001b[0;34m)\u001b[0m\u001b[0;34m\u001b[0m\u001b[0;34m\u001b[0m\u001b[0m\n\u001b[1;32m      5\u001b[0m     \u001b[0;32mreturn\u001b[0m \u001b[0mdata\u001b[0m\u001b[0;34m\u001b[0m\u001b[0;34m\u001b[0m\u001b[0m\n",
      "\u001b[0;31mFileNotFoundError\u001b[0m: [Errno 2] No such file or directory: 'https://jira.charter.com/rest/api/2/issue/CBI-129968'"
     ]
    }
   ],
   "source": [
    "readJSONFile(path)"
   ]
  },
  {
   "cell_type": "code",
   "execution_count": 9,
   "metadata": {},
   "outputs": [],
   "source": [
    "import urllib.request\n",
    "\n",
    "\n",
    "def getResponse(url):\n",
    "    operUrl = urllib.request.urlopen(url)\n",
    "    if(operUrl.getcode()==200):\n",
    "        data = operUrl.read()\n",
    "        jsonData = json.loads(data)\n",
    "    else:\n",
    "        print(\"Error receiving data\", operUrl.getcode())\n",
    "    return jso\n"
   ]
  },
  {
   "cell_type": "code",
   "execution_count": 10,
   "metadata": {},
   "outputs": [
    {
     "ename": "HTTPError",
     "evalue": "HTTP Error 401: ",
     "output_type": "error",
     "traceback": [
      "\u001b[0;31m---------------------------------------------------------------------------\u001b[0m",
      "\u001b[0;31mHTTPError\u001b[0m                                 Traceback (most recent call last)",
      "\u001b[0;32m<ipython-input-10-c7956782f2e2>\u001b[0m in \u001b[0;36m<module>\u001b[0;34m\u001b[0m\n\u001b[0;32m----> 1\u001b[0;31m \u001b[0mgetResponse\u001b[0m\u001b[0;34m(\u001b[0m\u001b[0mpath\u001b[0m\u001b[0;34m)\u001b[0m\u001b[0;34m\u001b[0m\u001b[0;34m\u001b[0m\u001b[0m\n\u001b[0m",
      "\u001b[0;32m<ipython-input-9-2241990f3bac>\u001b[0m in \u001b[0;36mgetResponse\u001b[0;34m(url)\u001b[0m\n\u001b[1;32m      3\u001b[0m \u001b[0;34m\u001b[0m\u001b[0m\n\u001b[1;32m      4\u001b[0m \u001b[0;32mdef\u001b[0m \u001b[0mgetResponse\u001b[0m\u001b[0;34m(\u001b[0m\u001b[0murl\u001b[0m\u001b[0;34m)\u001b[0m\u001b[0;34m:\u001b[0m\u001b[0;34m\u001b[0m\u001b[0;34m\u001b[0m\u001b[0m\n\u001b[0;32m----> 5\u001b[0;31m     \u001b[0moperUrl\u001b[0m \u001b[0;34m=\u001b[0m \u001b[0murllib\u001b[0m\u001b[0;34m.\u001b[0m\u001b[0mrequest\u001b[0m\u001b[0;34m.\u001b[0m\u001b[0murlopen\u001b[0m\u001b[0;34m(\u001b[0m\u001b[0murl\u001b[0m\u001b[0;34m)\u001b[0m\u001b[0;34m\u001b[0m\u001b[0;34m\u001b[0m\u001b[0m\n\u001b[0m\u001b[1;32m      6\u001b[0m     \u001b[0;32mif\u001b[0m\u001b[0;34m(\u001b[0m\u001b[0moperUrl\u001b[0m\u001b[0;34m.\u001b[0m\u001b[0mgetcode\u001b[0m\u001b[0;34m(\u001b[0m\u001b[0;34m)\u001b[0m\u001b[0;34m==\u001b[0m\u001b[0;36m200\u001b[0m\u001b[0;34m)\u001b[0m\u001b[0;34m:\u001b[0m\u001b[0;34m\u001b[0m\u001b[0;34m\u001b[0m\u001b[0m\n\u001b[1;32m      7\u001b[0m         \u001b[0mdata\u001b[0m \u001b[0;34m=\u001b[0m \u001b[0moperUrl\u001b[0m\u001b[0;34m.\u001b[0m\u001b[0mread\u001b[0m\u001b[0;34m(\u001b[0m\u001b[0;34m)\u001b[0m\u001b[0;34m\u001b[0m\u001b[0;34m\u001b[0m\u001b[0m\n",
      "\u001b[0;32m~/anaconda3/envs/fastai/lib/python3.6/urllib/request.py\u001b[0m in \u001b[0;36murlopen\u001b[0;34m(url, data, timeout, cafile, capath, cadefault, context)\u001b[0m\n\u001b[1;32m    221\u001b[0m     \u001b[0;32melse\u001b[0m\u001b[0;34m:\u001b[0m\u001b[0;34m\u001b[0m\u001b[0;34m\u001b[0m\u001b[0m\n\u001b[1;32m    222\u001b[0m         \u001b[0mopener\u001b[0m \u001b[0;34m=\u001b[0m \u001b[0m_opener\u001b[0m\u001b[0;34m\u001b[0m\u001b[0;34m\u001b[0m\u001b[0m\n\u001b[0;32m--> 223\u001b[0;31m     \u001b[0;32mreturn\u001b[0m \u001b[0mopener\u001b[0m\u001b[0;34m.\u001b[0m\u001b[0mopen\u001b[0m\u001b[0;34m(\u001b[0m\u001b[0murl\u001b[0m\u001b[0;34m,\u001b[0m \u001b[0mdata\u001b[0m\u001b[0;34m,\u001b[0m \u001b[0mtimeout\u001b[0m\u001b[0;34m)\u001b[0m\u001b[0;34m\u001b[0m\u001b[0;34m\u001b[0m\u001b[0m\n\u001b[0m\u001b[1;32m    224\u001b[0m \u001b[0;34m\u001b[0m\u001b[0m\n\u001b[1;32m    225\u001b[0m \u001b[0;32mdef\u001b[0m \u001b[0minstall_opener\u001b[0m\u001b[0;34m(\u001b[0m\u001b[0mopener\u001b[0m\u001b[0;34m)\u001b[0m\u001b[0;34m:\u001b[0m\u001b[0;34m\u001b[0m\u001b[0;34m\u001b[0m\u001b[0m\n",
      "\u001b[0;32m~/anaconda3/envs/fastai/lib/python3.6/urllib/request.py\u001b[0m in \u001b[0;36mopen\u001b[0;34m(self, fullurl, data, timeout)\u001b[0m\n\u001b[1;32m    530\u001b[0m         \u001b[0;32mfor\u001b[0m \u001b[0mprocessor\u001b[0m \u001b[0;32min\u001b[0m \u001b[0mself\u001b[0m\u001b[0;34m.\u001b[0m\u001b[0mprocess_response\u001b[0m\u001b[0;34m.\u001b[0m\u001b[0mget\u001b[0m\u001b[0;34m(\u001b[0m\u001b[0mprotocol\u001b[0m\u001b[0;34m,\u001b[0m \u001b[0;34m[\u001b[0m\u001b[0;34m]\u001b[0m\u001b[0;34m)\u001b[0m\u001b[0;34m:\u001b[0m\u001b[0;34m\u001b[0m\u001b[0;34m\u001b[0m\u001b[0m\n\u001b[1;32m    531\u001b[0m             \u001b[0mmeth\u001b[0m \u001b[0;34m=\u001b[0m \u001b[0mgetattr\u001b[0m\u001b[0;34m(\u001b[0m\u001b[0mprocessor\u001b[0m\u001b[0;34m,\u001b[0m \u001b[0mmeth_name\u001b[0m\u001b[0;34m)\u001b[0m\u001b[0;34m\u001b[0m\u001b[0;34m\u001b[0m\u001b[0m\n\u001b[0;32m--> 532\u001b[0;31m             \u001b[0mresponse\u001b[0m \u001b[0;34m=\u001b[0m \u001b[0mmeth\u001b[0m\u001b[0;34m(\u001b[0m\u001b[0mreq\u001b[0m\u001b[0;34m,\u001b[0m \u001b[0mresponse\u001b[0m\u001b[0;34m)\u001b[0m\u001b[0;34m\u001b[0m\u001b[0;34m\u001b[0m\u001b[0m\n\u001b[0m\u001b[1;32m    533\u001b[0m \u001b[0;34m\u001b[0m\u001b[0m\n\u001b[1;32m    534\u001b[0m         \u001b[0;32mreturn\u001b[0m \u001b[0mresponse\u001b[0m\u001b[0;34m\u001b[0m\u001b[0;34m\u001b[0m\u001b[0m\n",
      "\u001b[0;32m~/anaconda3/envs/fastai/lib/python3.6/urllib/request.py\u001b[0m in \u001b[0;36mhttp_response\u001b[0;34m(self, request, response)\u001b[0m\n\u001b[1;32m    640\u001b[0m         \u001b[0;32mif\u001b[0m \u001b[0;32mnot\u001b[0m \u001b[0;34m(\u001b[0m\u001b[0;36m200\u001b[0m \u001b[0;34m<=\u001b[0m \u001b[0mcode\u001b[0m \u001b[0;34m<\u001b[0m \u001b[0;36m300\u001b[0m\u001b[0;34m)\u001b[0m\u001b[0;34m:\u001b[0m\u001b[0;34m\u001b[0m\u001b[0;34m\u001b[0m\u001b[0m\n\u001b[1;32m    641\u001b[0m             response = self.parent.error(\n\u001b[0;32m--> 642\u001b[0;31m                 'http', request, response, code, msg, hdrs)\n\u001b[0m\u001b[1;32m    643\u001b[0m \u001b[0;34m\u001b[0m\u001b[0m\n\u001b[1;32m    644\u001b[0m         \u001b[0;32mreturn\u001b[0m \u001b[0mresponse\u001b[0m\u001b[0;34m\u001b[0m\u001b[0;34m\u001b[0m\u001b[0m\n",
      "\u001b[0;32m~/anaconda3/envs/fastai/lib/python3.6/urllib/request.py\u001b[0m in \u001b[0;36merror\u001b[0;34m(self, proto, *args)\u001b[0m\n\u001b[1;32m    568\u001b[0m         \u001b[0;32mif\u001b[0m \u001b[0mhttp_err\u001b[0m\u001b[0;34m:\u001b[0m\u001b[0;34m\u001b[0m\u001b[0;34m\u001b[0m\u001b[0m\n\u001b[1;32m    569\u001b[0m             \u001b[0margs\u001b[0m \u001b[0;34m=\u001b[0m \u001b[0;34m(\u001b[0m\u001b[0mdict\u001b[0m\u001b[0;34m,\u001b[0m \u001b[0;34m'default'\u001b[0m\u001b[0;34m,\u001b[0m \u001b[0;34m'http_error_default'\u001b[0m\u001b[0;34m)\u001b[0m \u001b[0;34m+\u001b[0m \u001b[0morig_args\u001b[0m\u001b[0;34m\u001b[0m\u001b[0;34m\u001b[0m\u001b[0m\n\u001b[0;32m--> 570\u001b[0;31m             \u001b[0;32mreturn\u001b[0m \u001b[0mself\u001b[0m\u001b[0;34m.\u001b[0m\u001b[0m_call_chain\u001b[0m\u001b[0;34m(\u001b[0m\u001b[0;34m*\u001b[0m\u001b[0margs\u001b[0m\u001b[0;34m)\u001b[0m\u001b[0;34m\u001b[0m\u001b[0;34m\u001b[0m\u001b[0m\n\u001b[0m\u001b[1;32m    571\u001b[0m \u001b[0;34m\u001b[0m\u001b[0m\n\u001b[1;32m    572\u001b[0m \u001b[0;31m# XXX probably also want an abstract factory that knows when it makes\u001b[0m\u001b[0;34m\u001b[0m\u001b[0;34m\u001b[0m\u001b[0;34m\u001b[0m\u001b[0m\n",
      "\u001b[0;32m~/anaconda3/envs/fastai/lib/python3.6/urllib/request.py\u001b[0m in \u001b[0;36m_call_chain\u001b[0;34m(self, chain, kind, meth_name, *args)\u001b[0m\n\u001b[1;32m    502\u001b[0m         \u001b[0;32mfor\u001b[0m \u001b[0mhandler\u001b[0m \u001b[0;32min\u001b[0m \u001b[0mhandlers\u001b[0m\u001b[0;34m:\u001b[0m\u001b[0;34m\u001b[0m\u001b[0;34m\u001b[0m\u001b[0m\n\u001b[1;32m    503\u001b[0m             \u001b[0mfunc\u001b[0m \u001b[0;34m=\u001b[0m \u001b[0mgetattr\u001b[0m\u001b[0;34m(\u001b[0m\u001b[0mhandler\u001b[0m\u001b[0;34m,\u001b[0m \u001b[0mmeth_name\u001b[0m\u001b[0;34m)\u001b[0m\u001b[0;34m\u001b[0m\u001b[0;34m\u001b[0m\u001b[0m\n\u001b[0;32m--> 504\u001b[0;31m             \u001b[0mresult\u001b[0m \u001b[0;34m=\u001b[0m \u001b[0mfunc\u001b[0m\u001b[0;34m(\u001b[0m\u001b[0;34m*\u001b[0m\u001b[0margs\u001b[0m\u001b[0;34m)\u001b[0m\u001b[0;34m\u001b[0m\u001b[0;34m\u001b[0m\u001b[0m\n\u001b[0m\u001b[1;32m    505\u001b[0m             \u001b[0;32mif\u001b[0m \u001b[0mresult\u001b[0m \u001b[0;32mis\u001b[0m \u001b[0;32mnot\u001b[0m \u001b[0;32mNone\u001b[0m\u001b[0;34m:\u001b[0m\u001b[0;34m\u001b[0m\u001b[0;34m\u001b[0m\u001b[0m\n\u001b[1;32m    506\u001b[0m                 \u001b[0;32mreturn\u001b[0m \u001b[0mresult\u001b[0m\u001b[0;34m\u001b[0m\u001b[0;34m\u001b[0m\u001b[0m\n",
      "\u001b[0;32m~/anaconda3/envs/fastai/lib/python3.6/urllib/request.py\u001b[0m in \u001b[0;36mhttp_error_default\u001b[0;34m(self, req, fp, code, msg, hdrs)\u001b[0m\n\u001b[1;32m    648\u001b[0m \u001b[0;32mclass\u001b[0m \u001b[0mHTTPDefaultErrorHandler\u001b[0m\u001b[0;34m(\u001b[0m\u001b[0mBaseHandler\u001b[0m\u001b[0;34m)\u001b[0m\u001b[0;34m:\u001b[0m\u001b[0;34m\u001b[0m\u001b[0;34m\u001b[0m\u001b[0m\n\u001b[1;32m    649\u001b[0m     \u001b[0;32mdef\u001b[0m \u001b[0mhttp_error_default\u001b[0m\u001b[0;34m(\u001b[0m\u001b[0mself\u001b[0m\u001b[0;34m,\u001b[0m \u001b[0mreq\u001b[0m\u001b[0;34m,\u001b[0m \u001b[0mfp\u001b[0m\u001b[0;34m,\u001b[0m \u001b[0mcode\u001b[0m\u001b[0;34m,\u001b[0m \u001b[0mmsg\u001b[0m\u001b[0;34m,\u001b[0m \u001b[0mhdrs\u001b[0m\u001b[0;34m)\u001b[0m\u001b[0;34m:\u001b[0m\u001b[0;34m\u001b[0m\u001b[0;34m\u001b[0m\u001b[0m\n\u001b[0;32m--> 650\u001b[0;31m         \u001b[0;32mraise\u001b[0m \u001b[0mHTTPError\u001b[0m\u001b[0;34m(\u001b[0m\u001b[0mreq\u001b[0m\u001b[0;34m.\u001b[0m\u001b[0mfull_url\u001b[0m\u001b[0;34m,\u001b[0m \u001b[0mcode\u001b[0m\u001b[0;34m,\u001b[0m \u001b[0mmsg\u001b[0m\u001b[0;34m,\u001b[0m \u001b[0mhdrs\u001b[0m\u001b[0;34m,\u001b[0m \u001b[0mfp\u001b[0m\u001b[0;34m)\u001b[0m\u001b[0;34m\u001b[0m\u001b[0;34m\u001b[0m\u001b[0m\n\u001b[0m\u001b[1;32m    651\u001b[0m \u001b[0;34m\u001b[0m\u001b[0m\n\u001b[1;32m    652\u001b[0m \u001b[0;32mclass\u001b[0m \u001b[0mHTTPRedirectHandler\u001b[0m\u001b[0;34m(\u001b[0m\u001b[0mBaseHandler\u001b[0m\u001b[0;34m)\u001b[0m\u001b[0;34m:\u001b[0m\u001b[0;34m\u001b[0m\u001b[0;34m\u001b[0m\u001b[0m\n",
      "\u001b[0;31mHTTPError\u001b[0m: HTTP Error 401: "
     ]
    }
   ],
   "source": [
    "getResponse(path)"
   ]
  },
  {
   "cell_type": "code",
   "execution_count": 3,
   "metadata": {
    "collapsed": true
   },
   "outputs": [
    {
     "ename": "NVMLError_LibraryNotFound",
     "evalue": "NVML Shared Library Not Found",
     "output_type": "error",
     "traceback": [
      "\u001b[1;31m---------------------------------------------------------------------------\u001b[0m",
      "\u001b[1;31mOSError\u001b[0m                                   Traceback (most recent call last)",
      "\u001b[1;32m~\\anaconda3\\envs\\fastai\\lib\\site-packages\\pynvml.py\u001b[0m in \u001b[0;36m_LoadNvmlLibrary\u001b[1;34m()\u001b[0m\n\u001b[0;32m    640\u001b[0m                         \u001b[1;31m# load nvml.dll from %ProgramFiles%/NVIDIA Corporation/NVSMI/nvml.dll\u001b[0m\u001b[1;33m\u001b[0m\u001b[1;33m\u001b[0m\u001b[1;33m\u001b[0m\u001b[0m\n\u001b[1;32m--> 641\u001b[1;33m                         \u001b[0mnvmlLib\u001b[0m \u001b[1;33m=\u001b[0m \u001b[0mCDLL\u001b[0m\u001b[1;33m(\u001b[0m\u001b[0mos\u001b[0m\u001b[1;33m.\u001b[0m\u001b[0mpath\u001b[0m\u001b[1;33m.\u001b[0m\u001b[0mjoin\u001b[0m\u001b[1;33m(\u001b[0m\u001b[0mos\u001b[0m\u001b[1;33m.\u001b[0m\u001b[0mgetenv\u001b[0m\u001b[1;33m(\u001b[0m\u001b[1;34m\"ProgramFiles\"\u001b[0m\u001b[1;33m,\u001b[0m \u001b[1;34m\"C:/Program Files\"\u001b[0m\u001b[1;33m)\u001b[0m\u001b[1;33m,\u001b[0m \u001b[1;34m\"NVIDIA Corporation/NVSMI/nvml.dll\"\u001b[0m\u001b[1;33m)\u001b[0m\u001b[1;33m)\u001b[0m\u001b[1;33m\u001b[0m\u001b[1;33m\u001b[0m\u001b[0m\n\u001b[0m\u001b[0;32m    642\u001b[0m                     \u001b[1;32melse\u001b[0m\u001b[1;33m:\u001b[0m\u001b[1;33m\u001b[0m\u001b[1;33m\u001b[0m\u001b[0m\n",
      "\u001b[1;32m~\\anaconda3\\envs\\fastai\\lib\\ctypes\\__init__.py\u001b[0m in \u001b[0;36m__init__\u001b[1;34m(self, name, mode, handle, use_errno, use_last_error)\u001b[0m\n\u001b[0;32m    363\u001b[0m         \u001b[1;32mif\u001b[0m \u001b[0mhandle\u001b[0m \u001b[1;32mis\u001b[0m \u001b[1;32mNone\u001b[0m\u001b[1;33m:\u001b[0m\u001b[1;33m\u001b[0m\u001b[1;33m\u001b[0m\u001b[0m\n\u001b[1;32m--> 364\u001b[1;33m             \u001b[0mself\u001b[0m\u001b[1;33m.\u001b[0m\u001b[0m_handle\u001b[0m \u001b[1;33m=\u001b[0m \u001b[0m_dlopen\u001b[0m\u001b[1;33m(\u001b[0m\u001b[0mself\u001b[0m\u001b[1;33m.\u001b[0m\u001b[0m_name\u001b[0m\u001b[1;33m,\u001b[0m \u001b[0mmode\u001b[0m\u001b[1;33m)\u001b[0m\u001b[1;33m\u001b[0m\u001b[1;33m\u001b[0m\u001b[0m\n\u001b[0m\u001b[0;32m    365\u001b[0m         \u001b[1;32melse\u001b[0m\u001b[1;33m:\u001b[0m\u001b[1;33m\u001b[0m\u001b[1;33m\u001b[0m\u001b[0m\n",
      "\u001b[1;31mOSError\u001b[0m: [WinError 126] The specified module could not be found",
      "\nDuring handling of the above exception, another exception occurred:\n",
      "\u001b[1;31mNVMLError_LibraryNotFound\u001b[0m                 Traceback (most recent call last)",
      "\u001b[1;32m<ipython-input-3-62889b3bfd6c>\u001b[0m in \u001b[0;36m<module>\u001b[1;34m\u001b[0m\n\u001b[0;32m      1\u001b[0m \u001b[1;32mfrom\u001b[0m \u001b[0mpynvml\u001b[0m \u001b[1;32mimport\u001b[0m \u001b[1;33m*\u001b[0m\u001b[1;33m\u001b[0m\u001b[1;33m\u001b[0m\u001b[0m\n\u001b[1;32m----> 2\u001b[1;33m \u001b[0mnvmlInit\u001b[0m\u001b[1;33m(\u001b[0m\u001b[1;33m)\u001b[0m\u001b[1;33m\u001b[0m\u001b[1;33m\u001b[0m\u001b[0m\n\u001b[0m\u001b[0;32m      3\u001b[0m \u001b[0mhandle\u001b[0m \u001b[1;33m=\u001b[0m \u001b[0mnvmlDeviceGetHandleByIndex\u001b[0m\u001b[1;33m(\u001b[0m\u001b[1;36m0\u001b[0m\u001b[1;33m)\u001b[0m\u001b[1;33m\u001b[0m\u001b[1;33m\u001b[0m\u001b[0m\n\u001b[0;32m      4\u001b[0m \u001b[0minfo\u001b[0m \u001b[1;33m=\u001b[0m \u001b[0mnvmlDeviceGetMemoryInfo\u001b[0m\u001b[1;33m(\u001b[0m\u001b[0mhandle\u001b[0m\u001b[1;33m)\u001b[0m\u001b[1;33m\u001b[0m\u001b[1;33m\u001b[0m\u001b[0m\n\u001b[0;32m      5\u001b[0m \u001b[0mprint\u001b[0m\u001b[1;33m(\u001b[0m\u001b[1;34m\"Total memory:\"\u001b[0m\u001b[1;33m,\u001b[0m \u001b[0minfo\u001b[0m\u001b[1;33m.\u001b[0m\u001b[0mtotal\u001b[0m\u001b[1;33m)\u001b[0m\u001b[1;33m\u001b[0m\u001b[1;33m\u001b[0m\u001b[0m\n",
      "\u001b[1;32m~\\anaconda3\\envs\\fastai\\lib\\site-packages\\pynvml.py\u001b[0m in \u001b[0;36mnvmlInit\u001b[1;34m()\u001b[0m\n\u001b[0;32m    606\u001b[0m \u001b[1;31m## C function wrappers ##\u001b[0m\u001b[1;33m\u001b[0m\u001b[1;33m\u001b[0m\u001b[1;33m\u001b[0m\u001b[0m\n\u001b[0;32m    607\u001b[0m \u001b[1;32mdef\u001b[0m \u001b[0mnvmlInit\u001b[0m\u001b[1;33m(\u001b[0m\u001b[1;33m)\u001b[0m\u001b[1;33m:\u001b[0m\u001b[1;33m\u001b[0m\u001b[1;33m\u001b[0m\u001b[0m\n\u001b[1;32m--> 608\u001b[1;33m     \u001b[0m_LoadNvmlLibrary\u001b[0m\u001b[1;33m(\u001b[0m\u001b[1;33m)\u001b[0m\u001b[1;33m\u001b[0m\u001b[1;33m\u001b[0m\u001b[0m\n\u001b[0m\u001b[0;32m    609\u001b[0m \u001b[1;33m\u001b[0m\u001b[0m\n\u001b[0;32m    610\u001b[0m     \u001b[1;31m#\u001b[0m\u001b[1;33m\u001b[0m\u001b[1;33m\u001b[0m\u001b[1;33m\u001b[0m\u001b[0m\n",
      "\u001b[1;32m~\\anaconda3\\envs\\fastai\\lib\\site-packages\\pynvml.py\u001b[0m in \u001b[0;36m_LoadNvmlLibrary\u001b[1;34m()\u001b[0m\n\u001b[0;32m    644\u001b[0m                         \u001b[0mnvmlLib\u001b[0m \u001b[1;33m=\u001b[0m \u001b[0mCDLL\u001b[0m\u001b[1;33m(\u001b[0m\u001b[1;34m\"libnvidia-ml.so.1\"\u001b[0m\u001b[1;33m)\u001b[0m\u001b[1;33m\u001b[0m\u001b[1;33m\u001b[0m\u001b[0m\n\u001b[0;32m    645\u001b[0m                 \u001b[1;32mexcept\u001b[0m \u001b[0mOSError\u001b[0m \u001b[1;32mas\u001b[0m \u001b[0mose\u001b[0m\u001b[1;33m:\u001b[0m\u001b[1;33m\u001b[0m\u001b[1;33m\u001b[0m\u001b[0m\n\u001b[1;32m--> 646\u001b[1;33m                     \u001b[0m_nvmlCheckReturn\u001b[0m\u001b[1;33m(\u001b[0m\u001b[0mNVML_ERROR_LIBRARY_NOT_FOUND\u001b[0m\u001b[1;33m)\u001b[0m\u001b[1;33m\u001b[0m\u001b[1;33m\u001b[0m\u001b[0m\n\u001b[0m\u001b[0;32m    647\u001b[0m                 \u001b[1;32mif\u001b[0m \u001b[1;33m(\u001b[0m\u001b[0mnvmlLib\u001b[0m \u001b[1;33m==\u001b[0m \u001b[1;32mNone\u001b[0m\u001b[1;33m)\u001b[0m\u001b[1;33m:\u001b[0m\u001b[1;33m\u001b[0m\u001b[1;33m\u001b[0m\u001b[0m\n\u001b[0;32m    648\u001b[0m                     \u001b[0m_nvmlCheckReturn\u001b[0m\u001b[1;33m(\u001b[0m\u001b[0mNVML_ERROR_LIBRARY_NOT_FOUND\u001b[0m\u001b[1;33m)\u001b[0m\u001b[1;33m\u001b[0m\u001b[1;33m\u001b[0m\u001b[0m\n",
      "\u001b[1;32m~\\anaconda3\\envs\\fastai\\lib\\site-packages\\pynvml.py\u001b[0m in \u001b[0;36m_nvmlCheckReturn\u001b[1;34m(ret)\u001b[0m\n\u001b[0;32m    308\u001b[0m \u001b[1;32mdef\u001b[0m \u001b[0m_nvmlCheckReturn\u001b[0m\u001b[1;33m(\u001b[0m\u001b[0mret\u001b[0m\u001b[1;33m)\u001b[0m\u001b[1;33m:\u001b[0m\u001b[1;33m\u001b[0m\u001b[1;33m\u001b[0m\u001b[0m\n\u001b[0;32m    309\u001b[0m     \u001b[1;32mif\u001b[0m \u001b[1;33m(\u001b[0m\u001b[0mret\u001b[0m \u001b[1;33m!=\u001b[0m \u001b[0mNVML_SUCCESS\u001b[0m\u001b[1;33m)\u001b[0m\u001b[1;33m:\u001b[0m\u001b[1;33m\u001b[0m\u001b[1;33m\u001b[0m\u001b[0m\n\u001b[1;32m--> 310\u001b[1;33m         \u001b[1;32mraise\u001b[0m \u001b[0mNVMLError\u001b[0m\u001b[1;33m(\u001b[0m\u001b[0mret\u001b[0m\u001b[1;33m)\u001b[0m\u001b[1;33m\u001b[0m\u001b[1;33m\u001b[0m\u001b[0m\n\u001b[0m\u001b[0;32m    311\u001b[0m     \u001b[1;32mreturn\u001b[0m \u001b[0mret\u001b[0m\u001b[1;33m\u001b[0m\u001b[1;33m\u001b[0m\u001b[0m\n\u001b[0;32m    312\u001b[0m \u001b[1;33m\u001b[0m\u001b[0m\n",
      "\u001b[1;31mNVMLError_LibraryNotFound\u001b[0m: NVML Shared Library Not Found"
     ]
    }
   ],
   "source": [
    "from pynvml import *\n",
    "nvmlInit()\n",
    "handle = nvmlDeviceGetHandleByIndex(0)\n",
    "info = nvmlDeviceGetMemoryInfo(handle)\n",
    "print(\"Total memory:\", info.total)\n",
    "print(\"Free memory:\", info.free)\n",
    "print(\"Used memory:\", info.used)"
   ]
  },
  {
   "cell_type": "code",
   "execution_count": 4,
   "metadata": {},
   "outputs": [],
   "source": [
    "%reload_ext autoreload\n",
    "%autoreload 2\n",
    "%matplotlib inline"
   ]
  },
  {
   "cell_type": "code",
   "execution_count": 9,
   "metadata": {},
   "outputs": [
    {
     "data": {
      "text/plain": [
       "'GeForce RTX 2080 Ti'"
      ]
     },
     "execution_count": 9,
     "metadata": {},
     "output_type": "execute_result"
    }
   ],
   "source": [
    "import torch\n",
    "torch.cuda.empty_cache()\n",
    "torch.cuda.get_device_name()"
   ]
  },
  {
   "cell_type": "code",
   "execution_count": 8,
   "metadata": {},
   "outputs": [
    {
     "name": "stdout",
     "output_type": "stream",
     "text": [
      "CBI\n",
      "Code Migration\n",
      "Acharya, Manoj X\n",
      "DQM CBI - New Views for DQM Audit2.0 Marketing Offers Management Drill-down Report for SMB\n",
      "21346\n"
     ]
    }
   ],
   "source": [
    "from jira import JIRA\n",
    "jiraURL=\"https://jira.charter.com\"\n",
    "jiraUserName=\"P2223479\"\n",
    "jiraPassword=\"Jan@2020\"\n",
    "def main():\n",
    "\n",
    "   options = {'server': jiraURL}\n",
    "   jira = JIRA(options, basic_auth=(jiraUserName, jiraPassword))\n",
    "   issue = jira.issue('CBI-129928')\n",
    "\n",
    "   print(issue.fields.project.key)\n",
    "   print(issue.fields.issuetype.name)\n",
    "   print(issue.fields.reporter.displayName)\n",
    "   print(issue.fields.summary)\n",
    "   print(issue.fields.project.id)\n",
    "\n",
    "\n",
    "if __name__== \"__main__\" :\n",
    "     main()"
   ]
  },
  {
   "cell_type": "code",
   "execution_count": null,
   "metadata": {},
   "outputs": [],
   "source": [
    "{\n",
    "    \"fields\": {\n",
    "       \"project\":\n",
    "       {\n",
    "          \"key\": \"CBI\"\n",
    "       },\n",
    "       \"summary\": \"REST ye merry gentlemen.\",\n",
    "       \"description\": \"Creating of an issue using project keys and issue type names using the REST API\",\n",
    "       \"issuetype\": {\n",
    "          \"name\": \"Bug\"\n",
    "       }\n",
    "   }\n",
    "}"
   ]
  },
  {
   "cell_type": "code",
   "execution_count": 23,
   "metadata": {},
   "outputs": [],
   "source": [
    "options = {'server': jiraURL}\n",
    "jira = JIRA(options, basic_auth=(jiraUserName, jiraPassword))\n"
   ]
  },
  {
   "cell_type": "code",
   "execution_count": 112,
   "metadata": {},
   "outputs": [],
   "source": [
    "etlSubtasks=[\n",
    "['DEV - Create MHUB entries','Development-Subtask'],\n",
    "['DEV - Create SQLs','Development-Subtask'],\n",
    "['DEV - Run MHUB DQM EME Sync','Development-Subtask'],\n",
    "['DEV - Run ETL jobs and validate data','Development-Subtask'],\n",
    "['Dev - Create Tag and Migrate to UAT','Development-Subtask'],\n",
    "['UAT - Run MHUB DQM EME Sync','UAT-Subtask'],\n",
    "['UAT - Run ETL jobs and validate data','UAT-Subtask'],\n",
    "['UAT - Validate with MSTR Report','UAT-Subtask'],\n",
    "['MIG - Create Sav file','Development-Subtask'],\n",
    "['MIG - Create RM','Development-Subtask'],\n",
    "['MIG - Create Migration Ticket','Development-Subtask'],\n",
    "['MIG - Get Archtecture Approval','Development-Subtask'],\n",
    "['MIG - ETL Migration Call','Development-Subtask'],\n",
    "['PRD - Validate Migration','Development-Subtask'],\n",
    "['PRD - Next Day Run Data Validation','Development-Subtask'],\n",
    "]\n",
    "\n",
    "ddlSubtasks=[\n",
    "['QA - DDL - Create/Modify Table(s) in XBIDQM_Q','Development-Subtask'],\n",
    "['QA - DDL - Create/Modify Logical Views in XBIDQM_Q','Development-Subtask'],\n",
    "['QA - DDL - Validate with MSTR Team','UAT-Subtask'],\n",
    "['DEV - DDL - Make Data Model Changes','Development-Subtask'],\n",
    "['DEV - DDL - Make Changes to Logical Views','Development-Subtask'],\n",
    "['MIG - DDL - Create S2T Document If Required','Development-Subtask'],\n",
    "['MIG - DDL - Create DDL Migration Ticket','Development-Subtask'],\n",
    "['MIG - DDL - Create DDL Definitons in SVN','Development-Subtask'],\n",
    "['MIG - DDL - Create CMP Document','Development-Subtask'],\n",
    "['MIG - DDL - Request Archtecture Approval','Development-Subtask'],\n",
    "['MIG - DDL - Request for Migration in Jira Migration Ticket','UAT-Subtask'],\n",
    "['UAT - DDL - Validate with MSTR Team','UAT-Subtask'],\n",
    "['MIG - Send DDLs and S2T Document to Carl J Kling for Erwin Model Update','Development-Subtask'],\n",
    "['MIG - DDL Migration Call','Development-Subtask'],\n",
    "['PRD - Validate Migration','Development-Subtask'],\n",
    "['PRD - Next day Run Data Validation','Development-Subtask']\n",
    "]\n",
    "\n",
    "ddlEtlSubtasks=[\n",
    "['QA - DDL - Create/Modify Table(s) in XBIDQM_Q','Development-Subtask'],\n",
    "['QA - DDL - Create/Modify Logical Views in XBIDQM_Q','Development-Subtask'],\n",
    "['QA - DDL - Validate with MSTR Team','UAT-Subtask'],\n",
    "['DEV - DDL - Make Data Model Changes','Development-Subtask'],\n",
    "['DEV - DDL - Make Changes to Logical Views','Development-Subtask'],\n",
    "\n",
    "['MIG - DDL - Create S2T Document If Required','Development-Subtask'],\n",
    "['MIG - DDL - Create DDL Migration Ticket','Development-Subtask'],\n",
    "['MIG - DDL - Create DDL Definitons in SVN','Development-Subtask'],\n",
    "['MIG - DDL - Create CMP Document','Development-Subtask'],\n",
    "['MIG - DDL - Request Archtecture Approval','Development-Subtask'],\n",
    "['MIG - Create Tag and Migrate to UAT','Development-Subtask'],\n",
    "\n",
    "['DEV - Create/Edit MHUB seed entries','Development-Subtask'],\n",
    "['DEV - Create/Edit SQLs','Development-Subtask'],\n",
    "['DEV - Run MHUB DQM EME Sync','Development-Subtask'],\n",
    "['DEV - Run ETL jobs and validate data','Development-Subtask'],\n",
    "\n",
    "['UAT - Run MHUB DQM EME Sync','UAT-Subtask'],\n",
    "['UAT - Run ETL jobs and validate data','UAT-Subtask'],\n",
    "['UAT - Validate with MSTR Report','UAT-Subtask'],\n",
    "\n",
    "['MIG - Create Sav file - DEV','Development-Subtask'],\n",
    "['MIG - Create RM - DEV','Development-Subtask'],\n",
    "['MIG - Create ETL Migration Ticket - DEV','Development-Subtask'],\n",
    "['MIG - Get ETL Archtecture Approval - DEV','Development-Subtask'],\n",
    "['MIG - DDL/ETL Migration Call - Prod','Development-Subtask'],\n",
    "\n",
    "['MIG - Send DDLs and S2T Document to Carl J Kling for Erwin Model Update','Development-Subtask'],\n",
    "['PRD - Validate Migration - Prod','Development-Subtask'],\n",
    "['PRD - Next day Run Data Validation - Prod','Development-Subtask']\n",
    "]"
   ]
  },
  {
   "cell_type": "code",
   "execution_count": 26,
   "metadata": {},
   "outputs": [],
   "source": [
    "#parent=\"CBI-132484\"\n",
    "parent=\"CBI-129961\""
   ]
  },
  {
   "cell_type": "code",
   "execution_count": 24,
   "metadata": {},
   "outputs": [],
   "source": [
    "def getJiraDetails(jira=jira, parent=\"CBI-XXXXXX\"):\n",
    "    issue = jira.issue(parent)\n",
    "\n",
    "    print(issue.fields.project.key)\n",
    "    print(issue.fields.issuetype.name)\n",
    "    print(issue.fields.reporter.displayName)\n",
    "    print(issue.fields.summary)\n",
    "    print(issue.fields.project.id)"
   ]
  },
  {
   "cell_type": "code",
   "execution_count": 27,
   "metadata": {},
   "outputs": [
    {
     "name": "stdout",
     "output_type": "stream",
     "text": [
      "CBI\n",
      "Story\n",
      "Vellaisamy, Manikandan\n",
      "ETL-LI-Enhance SLC audit 2.0 report to add new attribute HHP (HouseHoldPass) to distinguish passing & non-passing service locations\n",
      "21346\n"
     ]
    }
   ],
   "source": [
    "getJiraDetails(jira,parent)"
   ]
  },
  {
   "cell_type": "code",
   "execution_count": 28,
   "metadata": {},
   "outputs": [],
   "source": [
    "storyType=\"ETL\"\n",
    "if(storyType==\"ETL\"):\n",
    "    subtasks=etlSubtasks\n",
    "else: \n",
    "    if(storyType==\"DDL\"):\n",
    "        subtasks=ddlSubtasks\n",
    "    else:\n",
    "        if(storyType==\"DDLETL\" or storyType==\"ETLDDL\" ):\n",
    "            subtasks=ddlEtlSubtasks\n",
    "        else:\n",
    "            subtasks=None"
   ]
  },
  {
   "cell_type": "code",
   "execution_count": 29,
   "metadata": {},
   "outputs": [
    {
     "data": {
      "text/plain": [
       "[['Dev - Create MHUB entries', 'Development-Subtask'],\n",
       " ['Dev - Create SQLs', 'Development-Subtask'],\n",
       " ['Dev - Run MHUB DQM EME Sync', 'Development-Subtask'],\n",
       " ['Dev - Run ETL jobs and validate data', 'Development-Subtask'],\n",
       " ['Dev - Create Tag and Migrate to UAT', 'Development-Subtask'],\n",
       " ['QA - Run MHUB DQM EME Sync', 'QA-Subtask'],\n",
       " ['QA - Run ETL jobs and validate data', 'QA-Subtask'],\n",
       " ['QA - Validate with MSTR Report', 'QA-Subtask'],\n",
       " ['Create Sav file', 'Development-Subtask'],\n",
       " ['Create RM', 'Development-Subtask'],\n",
       " ['Create Migration Ticket', 'Development-Subtask'],\n",
       " ['Get Archtecture Approval', 'Development-Subtask'],\n",
       " ['ETL Migration Call', 'Development-Subtask'],\n",
       " ['Validate Migration', 'Development-Subtask']]"
      ]
     },
     "execution_count": 29,
     "metadata": {},
     "output_type": "execute_result"
    }
   ],
   "source": [
    "subtasks"
   ]
  },
  {
   "cell_type": "code",
   "execution_count": 87,
   "metadata": {},
   "outputs": [
    {
     "name": "stdout",
     "output_type": "stream",
     "text": [
      "[<JIRA Issue: key='CBI-132531', id='3107109'>, <JIRA Issue: key='CBI-132527', id='3106798'>, <JIRA Issue: key='CBI-132484', id='3104726'>, <JIRA Issue: key='CBI-132483', id='3104720'>, <JIRA Issue: key='CBI-129961', id='3030498'>, <JIRA Issue: key='CBI-125604', id='2894126'>, <JIRA Issue: key='CBI-117470', id='2660297'>, <JIRA Issue: key='CBI-124572', id='2863160'>, <JIRA Issue: key='CBI-48833', id='1800767'>, <JIRA Issue: key='CBI-124394', id='2858199'>, <JIRA Issue: key='CBI-111846', id='2566524'>, <JIRA Issue: key='CBI-110923', id='2550901'>, <JIRA Issue: key='CBI-110393', id='2542509'>, <JIRA Issue: key='CBI-100889', id='2372337'>, <JIRA Issue: key='CBI-96220', id='2298961'>, <JIRA Issue: key='CBI-93328', id='2256562'>, <JIRA Issue: key='CBI-97793', id='2323983'>, <JIRA Issue: key='CBI-94811', id='2279554'>, <JIRA Issue: key='CBI-93611', id='2261706'>, <JIRA Issue: key='CBI-91926', id='2236732'>, <JIRA Issue: key='CBI-94006', id='2267216'>, <JIRA Issue: key='CBI-59725', id='1982991'>, <JIRA Issue: key='CBI-50122', id='1816260'>, <JIRA Issue: key='CBI-49714', id='1811166'>, <JIRA Issue: key='CBI-94844', id='2280412'>, <JIRA Issue: key='CBI-93256', id='2255607'>, <JIRA Issue: key='CBI-70539', id='2153821'>, <JIRA Issue: key='CBI-54187', id='1895525'>, <JIRA Issue: key='CBI-65430', id='2075027'>, <JIRA Issue: key='CBI-62914', id='2037615'>, <JIRA Issue: key='CBI-61865', id='2019718'>, <JIRA Issue: key='CBI-62963', id='2039196'>, <JIRA Issue: key='CBI-64285', id='2057739'>, <JIRA Issue: key='CBI-64281', id='2057815'>, <JIRA Issue: key='CBI-64277', id='2057812'>, <JIRA Issue: key='CBI-63585', id='2047171'>, <JIRA Issue: key='CBI-61973', id='2021636'>, <JIRA Issue: key='CBI-58800', id='1966837'>, <JIRA Issue: key='CBI-54621', id='1901485'>, <JIRA Issue: key='CBI-30072', id='1383022'>, <JIRA Issue: key='CBI-33512', id='1446406'>, <JIRA Issue: key='CBI-49533', id='1809716'>, <JIRA Issue: key='CBI-43547', id='1595382'>, <JIRA Issue: key='CBI-58942', id='1968668'>, <JIRA Issue: key='CBI-57199', id='1937833'>, <JIRA Issue: key='CBI-56588', id='1927880'>, <JIRA Issue: key='CBI-56130', id='1923826'>, <JIRA Issue: key='CBI-55877', id='1919063'>, <JIRA Issue: key='CBI-54770', id='1902648'>, <JIRA Issue: key='CBI-53727', id='1887069'>, <JIRA Issue: key='CBI-53724', id='1887067'>, <JIRA Issue: key='CBI-50154', id='1816579'>, <JIRA Issue: key='CBI-39175', id='1524952'>, <JIRA Issue: key='CBI-37743', id='1500490'>, <JIRA Issue: key='CBI-31537', id='1407230'>, <JIRA Issue: key='CBI-31066', id='1399460'>, <JIRA Issue: key='CBI-15839', id='988641'>]\n"
     ]
    }
   ],
   "source": [
    "issues_in_project = jira.search_issues('project = CBI AND issuetype = \"Story\" AND status != Closed AND assignee in (P2223479) order by updated DESC',maxResults=100)\n",
    "\n",
    "print(issues_in_project)"
   ]
  },
  {
   "cell_type": "code",
   "execution_count": 106,
   "metadata": {},
   "outputs": [],
   "source": [
    "\n",
    "def createJiraETLSubTasks(jira,\n",
    "parent=\"CBI-XXXXXX\"\n",
    ",summary='Test Sub task'\n",
    ",description='Test Sub-Task'\n",
    "#,issuetype='Development-Subtask'\n",
    ",issuetype='Sub-Story'\n",
    "):\n",
    "    #issue = jira.issue(parent)\n",
    "\n",
    "    child_dict = {\n",
    "        'project' : { 'key': 'CBI' },\n",
    "        'summary' : summary,\n",
    "        'description' : description,\n",
    "        'issuetype' : { 'name' : issuetype },\n",
    "        'customfield_32732':[{\"value\":'None of the above'}],\n",
    "        'parent' : { 'id' : parent}\n",
    "        }\n",
    "\n",
    "    child = jira.create_issue(fields=child_dict)\n",
    "\n",
    "    #print(\"created child: \" + child.key)\n",
    "    taskKey=child.key #\"CBI-XXXXXX\"\n",
    "    print(\"{} | {} | {} | {} | {}\".format(parent,taskKey,summary,description,issuetype))\n"
   ]
  },
  {
   "cell_type": "code",
   "execution_count": null,
   "metadata": {},
   "outputs": [],
   "source": [
    "#jira.create_issue(fields=child_dict)"
   ]
  },
  {
   "cell_type": "code",
   "execution_count": 101,
   "metadata": {},
   "outputs": [
    {
     "name": "stdout",
     "output_type": "stream",
     "text": [
      "CBI-129961 | CBI-132580 | Test | Test | Development-Subtask\n"
     ]
    }
   ],
   "source": [
    "createJiraETLSubTasks(jira,parent, summary=\"Test\", description = \"Test\")"
   ]
  },
  {
   "cell_type": "code",
   "execution_count": 103,
   "metadata": {},
   "outputs": [
    {
     "name": "stdout",
     "output_type": "stream",
     "text": [
      "CBI-129961 | CBI-132586 | Dev - Create MHUB entries | Dev - Create MHUB entries | Sub-Story\n",
      "CBI-129961 | CBI-132587 | Dev - Create SQLs | Dev - Create SQLs | Sub-Story\n",
      "CBI-129961 | CBI-132588 | Dev - Run MHUB DQM EME Sync | Dev - Run MHUB DQM EME Sync | Sub-Story\n",
      "CBI-129961 | CBI-132589 | Dev - Run ETL jobs and validate data | Dev - Run ETL jobs and validate data | Sub-Story\n",
      "CBI-129961 | CBI-132590 | Dev - Create Tag and Migrate to UAT | Dev - Create Tag and Migrate to UAT | Sub-Story\n",
      "CBI-129961 | CBI-132591 | QA - Run MHUB DQM EME Sync | QA - Run MHUB DQM EME Sync | Sub-Story\n",
      "CBI-129961 | CBI-132592 | QA - Run ETL jobs and validate data | QA - Run ETL jobs and validate data | Sub-Story\n",
      "CBI-129961 | CBI-132593 | QA - Validate with MSTR Report | QA - Validate with MSTR Report | Sub-Story\n",
      "CBI-129961 | CBI-132595 | Create Sav file | Create Sav file | Sub-Story\n",
      "CBI-129961 | CBI-132596 | Create RM | Create RM | Sub-Story\n",
      "CBI-129961 | CBI-132597 | Create Migration Ticket | Create Migration Ticket | Sub-Story\n",
      "CBI-129961 | CBI-132598 | Get Archtecture Approval | Get Archtecture Approval | Sub-Story\n",
      "CBI-129961 | CBI-132599 | ETL Migration Call | ETL Migration Call | Sub-Story\n",
      "CBI-129961 | CBI-132600 | Validate Migration | Validate Migration | Sub-Story\n"
     ]
    }
   ],
   "source": [
    "for elem in subtasks :\n",
    "    createJiraETLSubTasks(jira,parent, summary=elem[0], description = elem[0])"
   ]
  },
  {
   "cell_type": "code",
   "execution_count": 107,
   "metadata": {},
   "outputs": [],
   "source": [
    "def createSubTasks(parent,storyType=\"ETL\",subtasks=subtasks, jira=jira):\n",
    "    \n",
    "    if(storyType==\"ETL\"):\n",
    "        subtasks=etlSubtasks\n",
    "    else: \n",
    "        if(storyType==\"DDL\"):\n",
    "            subtasks=ddlSubtasks\n",
    "        else:\n",
    "            if(storyType==\"DDLETL\" or storyType==\"ETLDDL\" ):\n",
    "                subtasks=ddlEtlSubtasks\n",
    "            else:\n",
    "                subtasks=None\n",
    "    for elem in subtasks :\n",
    "        createJiraETLSubTasks(jira,parent, summary=elem[0], description = elem[0])"
   ]
  },
  {
   "cell_type": "code",
   "execution_count": 109,
   "metadata": {},
   "outputs": [
    {
     "name": "stdout",
     "output_type": "stream",
     "text": [
      "CBI-132484 | CBI-132644 | QA - DDL - Create/Modify Table(s) in XBIDQM_Q | QA - DDL - Create/Modify Table(s) in XBIDQM_Q | Sub-Story\n",
      "CBI-132484 | CBI-132645 | QA - DDL - Create/Modify Logical Views in XBIDQM_Q | QA - DDL - Create/Modify Logical Views in XBIDQM_Q | Sub-Story\n",
      "CBI-132484 | CBI-132646 | QA - DDL - Validate with MSTR Team | QA - DDL - Validate with MSTR Team | Sub-Story\n",
      "CBI-132484 | CBI-132647 | DEV - DDL - Make Data Model Changes | DEV - DDL - Make Data Model Changes | Sub-Story\n",
      "CBI-132484 | CBI-132648 | DEV - DDL - Make Changes to Logical Views | DEV - DDL - Make Changes to Logical Views | Sub-Story\n",
      "CBI-132484 | CBI-132649 | DEV - DDL - Create S2T Document If Required | DEV - DDL - Create S2T Document If Required | Sub-Story\n",
      "CBI-132484 | CBI-132650 | DEV - DDL - Create DDL Migration Ticket | DEV - DDL - Create DDL Migration Ticket | Sub-Story\n",
      "CBI-132484 | CBI-132651 | DEV - DDL - Create DDL Definitons in SVN | DEV - DDL - Create DDL Definitons in SVN | Sub-Story\n",
      "CBI-132484 | CBI-132652 | DEV - DDL - Create CMP Document | DEV - DDL - Create CMP Document | Sub-Story\n",
      "CBI-132484 | CBI-132653 | DEV - DDL - Request Architecte Approval | DEV - DDL - Request Architecte Approval | Sub-Story\n",
      "CBI-132484 | CBI-132654 | UAT - DDL - Request for Migration in Jira Migration Ticket | UAT - DDL - Request for Migration in Jira Migration Ticket | Sub-Story\n",
      "CBI-132484 | CBI-132655 | UAT - DDL - Validate with MSTR Team | UAT - DDL - Validate with MSTR Team | Sub-Story\n",
      "CBI-132484 | CBI-132656 | DDL/ETL Migration Call | DDL/ETL Migration Call | Sub-Story\n",
      "CBI-132484 | CBI-132657 | Validate Migration | Validate Migration | Sub-Story\n",
      "CBI-132484 | CBI-132658 | Send DDLs and S2T Document to Carl J Kling for Erwin Model Update | Send DDLs and S2T Document to Carl J Kling for Erwin Model Update | Sub-Story\n"
     ]
    }
   ],
   "source": [
    "createSubTasks('CBI-130455',\"ETL\")"
   ]
  },
  {
   "cell_type": "code",
   "execution_count": 110,
   "metadata": {},
   "outputs": [
    {
     "name": "stdout",
     "output_type": "stream",
     "text": [
      "CBI-130455 | CBI-132659 | Dev - Create MHUB entries | Dev - Create MHUB entries | Sub-Story\n",
      "CBI-130455 | CBI-132660 | Dev - Create SQLs | Dev - Create SQLs | Sub-Story\n",
      "CBI-130455 | CBI-132661 | Dev - Run MHUB DQM EME Sync | Dev - Run MHUB DQM EME Sync | Sub-Story\n",
      "CBI-130455 | CBI-132662 | Dev - Run ETL jobs and validate data | Dev - Run ETL jobs and validate data | Sub-Story\n",
      "CBI-130455 | CBI-132663 | Dev - Create Tag and Migrate to UAT | Dev - Create Tag and Migrate to UAT | Sub-Story\n",
      "CBI-130455 | CBI-132664 | QA - Run MHUB DQM EME Sync | QA - Run MHUB DQM EME Sync | Sub-Story\n",
      "CBI-130455 | CBI-132665 | QA - Run ETL jobs and validate data | QA - Run ETL jobs and validate data | Sub-Story\n",
      "CBI-130455 | CBI-132666 | QA - Validate with MSTR Report | QA - Validate with MSTR Report | Sub-Story\n",
      "CBI-130455 | CBI-132667 | Create Sav file | Create Sav file | Sub-Story\n",
      "CBI-130455 | CBI-132668 | Create RM | Create RM | Sub-Story\n",
      "CBI-130455 | CBI-132669 | Create Migration Ticket | Create Migration Ticket | Sub-Story\n",
      "CBI-130455 | CBI-132670 | Get Archtecture Approval | Get Archtecture Approval | Sub-Story\n",
      "CBI-130455 | CBI-132671 | ETL Migration Call | ETL Migration Call | Sub-Story\n",
      "CBI-130455 | CBI-132672 | Validate Migration | Validate Migration | Sub-Story\n"
     ]
    }
   ],
   "source": [
    "createSubTasks('CBI-130455',\"ETL\")"
   ]
  },
  {
   "cell_type": "code",
   "execution_count": 24,
   "metadata": {},
   "outputs": [
    {
     "name": "stdout",
     "output_type": "stream",
     "text": [
      "CBI\n",
      "Code Migration\n",
      "Acharya, Manoj X\n",
      "DQM CBI - New Views for DQM Audit2.0 Marketing Offers Management Drill-down Report for SMB\n",
      "21346\n",
      "created child: CBI-132469\n"
     ]
    }
   ],
   "source": [
    "\n",
    "def createJiraETLSubTasks(\n",
    "parent=\"CBI-125604\"\n",
    ",summary='Test Sub task'\n",
    ",description='Test Sub-Task'\n",
    "#issuetype='Development-Subtask'\n",
    ",issuetype='Sub-Story'\n",
    "):\n",
    "\n",
    "options = {'server': jiraURL}\n",
    "jira = JIRA(options, basic_auth=(jiraUserName, jiraPassword))\n",
    "issue = jira.issue('CBI-129928')\n",
    "\n",
    "print(issue.fields.project.key)\n",
    "print(issue.fields.issuetype.name)\n",
    "print(issue.fields.reporter.displayName)\n",
    "print(issue.fields.summary)\n",
    "print(issue.fields.project.id)\n",
    "\n",
    "rootnn_dict = {\n",
    "    'project' : { 'key': 'JBIDE' },\n",
    "    'summary' : 'Test auto created issue',\n",
    "    'description' : 'Ignore this. will be deleted shortly',\n",
    "    'issuetype' : { 'name' : 'Sub-Task' },\n",
    "    }\n",
    "\n",
    "#rootnn = jira.create_issue(fields=rootnn_dict)\n",
    "\n",
    "#print(\"created \" + rootnn.key)\n",
    "\n",
    "rootnn_dict = {\n",
    "    'project' : { 'key': 'CBI' },\n",
    "    'summary' : summary,\n",
    "    'description' : description,\n",
    "    'issuetype' : { 'name' : issuetype },\n",
    "    #'issuetype' : { 'name' : 'Sub-Story' },\n",
    "    #CBI-132469\n",
    "    'parent' : { 'id' : parent},\n",
    "    }\n",
    "\n",
    "child = jira.create_issue(fields=rootnn_dict)\n",
    "\n",
    "print(\"created child: \" + child.key)"
   ]
  },
  {
   "cell_type": "code",
   "execution_count": 21,
   "metadata": {},
   "outputs": [],
   "source": [
    "?? jira.create_issue"
   ]
  }
 ],
 "metadata": {
  "kernelspec": {
   "display_name": "Python 3",
   "language": "python",
   "name": "python3"
  },
  "language_info": {
   "codemirror_mode": {
    "name": "ipython",
    "version": 3
   },
   "file_extension": ".py",
   "mimetype": "text/x-python",
   "name": "python",
   "nbconvert_exporter": "python",
   "pygments_lexer": "ipython3",
   "version": "3.6.10"
  }
 },
 "nbformat": 4,
 "nbformat_minor": 4
}
